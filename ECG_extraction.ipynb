import sys
sys.path.append("/home/ec2-user/SageMaker/")
import pandas as pd
import numpy as np
import matplotlib.pyplot as plt
import datetime as dt
from matplotlib.ticker import MultipleLocator
from datetime import datetime, timedelta, date
import datetime
from dateutil.relativedelta import relativedelta, MO

from utils import Athena_Query, s3, LabelStore
from utils.sql_query import SqlQuery
from IPython.display import clear_output, HTML
import heartpy as hp
from scipy.interpolate import CubicSpline
from utils.waveform_viewer2 import Waveform_Extract, Waveform_Helper


wh = Waveform_Helper()
athena = Athena_Query()
from utils.tsfm_pipeline.transformations.labelling.R_peak.HilbertTransform.MHTD__ import MHTD, myfilter
from utils.fiducial_marker.hrv_functions.episodebasedhrv import HRVEpisodeExtract
from utils.fiducial_marker.hrv_functions.hrvlib import hrvlib
hrv = hrvlib()

from hrv_calculation import hrvcalculation
hrv = hrvcalculation()

hrv_calc = hrvcalculation()  # Create an instance of the hrvcalculation class

#extract 12hr ECG data 
from datetime import datetime, timedelta

def extract_12hr_ecg(patientid, start, end):
    max_extraction_time = timedelta(hours=4)
    time_increment = timedelta(hours=4)

    current_start_time = start.to_pydatetime()  # Convert Timestamp to datetime
    current_end_time = current_start_time + max_extraction_time
    found_data = False
    ecg_data = []

    while current_end_time <= end.to_pydatetime():  # Convert Timestamp to datetime
        try:
            we = Waveform_Extract(patientid)
            start_str = current_start_time.strftime('%Y-%m-%d %H:%M:%S')
            end_str = current_end_time.strftime('%Y-%m-%d %H:%M:%S')
            we.set_extract_time(start_str, end_str)
            ECG = we.get_ecg(cols=['ecg_ii'])
            ecg_data.append(ECG)
            found_data = True
        except Exception as e:
            print(f"No data found between {current_start_time} and {current_end_time}: {e}")
    
        current_start_time += time_increment
        current_end_time += time_increment

    clear_output(wait=True)
    if found_data:
        print("Data extraction successful.")
    else:
        print("No data found within the specified time period.")
        return None

    combined_ecg_data = pd.concat(ecg_data)
    return combined_ecg_data

# Rest of the code remains the same...



def extract_onehr_hrv(patientid, start, end, increment):
    max_extraction_time = timedelta(minutes=60)
    time_increment = timedelta(minutes=increment)

    current_start_time = start.to_pydatetime() + time_increment
    current_end_time = current_start_time + max_extraction_time

    we = Waveform_Extract(patientid)
    start_str = current_start_time.strftime('%Y-%m-%d %H:%M:%S')
    end_str = current_end_time.strftime('%Y-%m-%d %H:%M:%S')
    we.set_extract_time(start_str, end_str)
    
    try:
        ECG = we.get_ecg(cols=['ecg_ii'])
        ECG.ecg_ii = ECG.ecg_ii.astype(float)  # Convert to float type
        
        if ECG.ecg_ii.empty:
            return None  # Skip iteration if ECG data is empty
        
    except (AttributeError, ValueError):
        # No ECG data available or empty ECG data, continue with the next iteration
        return None

    Rpeaks = MHTD(ECG.ecg_ii).astype(int) 
    rr = np.diff(Rpeaks)

    hrv_time = hrv_calc.calctimedomainhrv(rr, t_unit='ms')
    hrv_fre = hrv_calc.calcfreqdomainhrv(rr, t_unit='ms')
    hrv_nonlinear = hrv_calc.calcnonlinearhrv(rr, t_unit='ms', m=3, L=1, min_box=4, max_box=64, inc=1, cop=12, decim=2)

    hrv_dict = {'patientid': patientid}
    hrv_dict.update(hrv_time.iloc[0].to_dict())
    hrv_dict.update(hrv_fre.iloc[0].to_dict())
    hrv_dict.update(hrv_nonlinear.iloc[0].to_dict())

    return hrv_dict
