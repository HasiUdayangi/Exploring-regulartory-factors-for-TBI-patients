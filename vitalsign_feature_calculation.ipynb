from IPython.display import HTML, clear_output
import sys
sys.path.append("/home/ec2-user/SageMaker/")
sys.path.append("/home/ec2-user/SageMaker/relationship between HRV and others/Vital sign feature/")
import boto3
import io
import pandas as pd
import numpy as np
import matplotlib.pyplot as plt
import datetime as dt
from datetime import datetime, timedelta, date
from utils import Athena_Query, s3, LabelStore
from utils.sql_query import SqlQuery

athena = Athena_Query()

#Vital Sign Extractor
from vital_sign_extraction import VitalSignExtractor
vital = VitalSignExtractor()

from sklearn.impute import KNNImputer
knn = KNNImputer()

#Vital Sign Extractor
from vital_sign_extraction import VitalSignExtractor
vital = VitalSignExtractor()

from sklearn.impute import KNNImputer
knn = KNNImputer()

from vital_imputation_processor import HealthDataProcessor
processor = HealthDataProcessor()

#import vital sign feature extract file (vital_feature)
from vital_feature import extract_data_within_time_range, process_health_data, calculate_hourly_metrics

all_hourly_mean_dfs = []
all_hourly_slope_dfs = []

for patientid in patient_list:
    df = extract_data_within_time_range(patientid)
    df_everymin = processor.every_minutes_df(df)
    imputed_df = process_health_data(df_everymin, imputer=knn)

    vital_sign_columns = [column for column in imputed_df.columns if column not in ['time', 'time_since_start']]
    hourly_mean_df, hourly_slope_df = calculate_hourly_metrics(imputed_df, vital_sign_columns)

    hourly_mean_df.insert(0, 'patientid', patientid)
    hourly_slope_df.insert(0, 'patientid', patientid)

    all_hourly_mean_dfs.append(hourly_mean_df)
    all_hourly_slope_dfs.append(hourly_slope_df)

combined_hourly_mean_df = pd.concat(all_hourly_mean_dfs, ignore_index=True)
combined_hourly_slope_df = pd.concat(all_hourly_slope_dfs, ignore_index=True)

def plot_parameters(patient_id, df_patient):
    
    parameter_columns = ['HR', 'Diastolic BP', 'Systolic BP', 'ABP Mean', 'SpO2', 'Temperature', 'Intra-Cranial Pressure', 'Respiratory rate']
    num_parameters = len(parameter_columns)

    colors = ['b', 'g', '#D95319', 'c', '#A2142F', 'y', 'k', '#77AC30']  # Define colors for each parameter

    fig, axes = plt.subplots(num_parameters, 1, figsize=(15, 5*num_parameters))
    
    # Convert 'time' column to datetime data type
    df_patient['time'] = pd.to_datetime(df_patient['time'])
    
    # Calculate time difference in hours relative to the first timestamp
    df_patient['time_since_admission_hours'] = (df_patient['time'] - df_patient['time'].iloc[0]).dt.total_seconds() / 3600.0
    
    for i, parameter in enumerate(parameter_columns):
        ax = axes[i]
        ax.scatter(df_patient['time_since_admission_hours'], df_patient[parameter], color=colors[i], marker='o')
        ax.set_xlabel('Time Since Admission (hours)')
        ax.set_ylabel(parameter)
        ax.set_title(f'Patient ID: {patient_id} - {parameter}')
        ax.set_xlim(0, 13)

    plt.tight_layout()
    plt.show()

def calculate_hourly_metrics(imputed_df, vital_sign_columns, interval_minutes=60, interval_count=12):
    intervals = len(imputed_df) // (60)
    hourly_means = []
    hourly_slopes = []

    for i in range(intervals):
        interval_start = i * (interval_minutes)
        interval_end = (i + 1) * (interval_minutes)

        hourly_mean_values = imputed_df.loc[interval_start:interval_end, vital_sign_columns].mean()
        hourly_slope_values = {}
        for column in vital_sign_columns:
            slope, _ = np.polyfit(imputed_df['time_since_start'][interval_start:interval_end], imputed_df[column][interval_start:interval_end], 1)
            hourly_slope_values[column] = slope

        hourly_means.append(hourly_mean_values)
        hourly_slopes.append(hourly_slope_values)

    hourly_mean_df = pd.DataFrame(hourly_means)
    hourly_slope_df = pd.DataFrame(hourly_slopes)

    return hourly_mean_df, hourly_slope_df

vital_sign_columns = [column for column in imputed_df.columns if column not in ['time', 'time_since_start']]
hourly_mean_dfnew, hourly_slope_dfnew = calculate_hourly_metrics(imputed_df, vital_sign_columns)
hourly_mean_dfnew.insert(0, 'patientid', patientid)
hourly_slope_dfnew.insert(0, 'patientid', patientid)

# Calculate additional features
additional_features = {
    'patientid': [],
    'HR_std': [],
    'Diastolic BP_std': [],
    'HR_max': [],
    'Diastolic BP_max': [],
    # ... add other columns ...
}

unique_patients = hourly_mean_dfnew['patientid'].unique()
for patient in unique_patients:
    patient_mean = hourly_mean_dfnew[hourly_mean_dfnew['patientid'] == patient]
    patient_slope = hourly_slope_dfnew[hourly_slope_dfnew['patientid'] == patient]
    
    hr_std = patient_mean['HR'].std()
    diastolic_bp_std = patient_mean['Diastolic BP'].std()
    hr_max = patient_mean['HR'].max()
    diastolic_bp_max = patient_mean['Diastolic BP'].max()
    
    additional_features['patientid'].append(patient)
    additional_features['HR_std'].append(hr_std)
    additional_features['Diastolic BP_std'].append(diastolic_bp_std)
    additional_features['HR_max'].append(hr_max)
    additional_features['Diastolic BP_max'].append(diastolic_bp_max)
    # ... add other columns ...
    
# Create DataFrame for additional features
additional_features_df = pd.DataFrame(additional_features)

additional_features = {'patientid': [], 'HR_std': [], 'Diastolic BP_std': [],
                       'Systolic BP_std': [], 'ABP Mean_std': [],
                       'SpO2_std': [], 'Respiratory rate_std': []}
patient_id = hourly_mean_dfnew['patientid'][0]
additional_features['patientid'].append(patient_id)
for vital_sign in vital_sign_columns:
    std_column = f'{vital_sign}_std'
    std_value = hourly_mean_dfnew[vital_sign].std()
    additional_features[std_column] = [std_value]
additional_df = pd.DataFrame.from_dict(additional_features)

