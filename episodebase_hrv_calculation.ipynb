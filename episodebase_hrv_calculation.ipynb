from IPython.display import HTML, clear_output
!pip install heartpy
!pip3 install tqdm

import sys
sys.path.append("/home/ec2-user/SageMaker/")
import boto3
import io
import pandas as pd
import numpy as np
import matplotlib.pyplot as plt
import datetime as dt
from matplotlib.ticker import MultipleLocator
from datetime import datetime, timedelta, date
import datetime
from dateutil.relativedelta import relativedelta, MO
from tqdm import tqdm
from utils import Athena_Query, s3, LabelStore
from utils.sql_query import SqlQuery
from IPython.display import clear_output, HTML
import heartpy as hp
from scipy.interpolate import CubicSpline
from IPython.display import clear_output
import scipy.signal as signal
from utils.waveform_viewer2 import Waveform_Extract, Waveform_Helper
from utils.tsfm_pipeline.transformations.labelling.R_peak.HilbertTransform.MHTD__ import MHTD, myfilter
from utils.fiducial_marker.hrv_functions.episodebasedhrv import HRVEpisodeExtract
from hrv_calculation import hrvcalculation
hrv = hrvcalculation()
wh = Waveform_Helper()
athena = Athena_Query()
clear_output(wait=True)
print('Imports Completed')


hrv_calc = hrvcalculation()  # Create an instance of the hrvcalculation class

def extract_onehr_hrv(patientid, start, end, increment):
    max_extraction_time = timedelta(minutes=61)
    time_increment = timedelta(minutes=increment)

    current_start_time = start.to_pydatetime() + time_increment
    current_end_time = current_start_time + max_extraction_time

    we = Waveform_Extract(patientid)
    start_str = current_start_time.strftime('%Y-%m-%d %H:%M:%S')
    end_str = current_end_time.strftime('%Y-%m-%d %H:%M:%S')
    we.set_extract_time(start_str, end_str)
    
    try:
        ECG = we.get_ecg(cols=['ecg_ii'])
        ECG.ecg_ii = ECG.ecg_ii.astype(float)  # Convert to float type
        
        if ECG.ecg_ii.empty:
            return None  # Skip iteration if ECG data is empty
        
    except (AttributeError, ValueError):
        # No ECG data available or empty ECG data, continue with the next iteration
        return None

    Rpeaks = MHTD(ECG.ecg_ii).astype(int) 
    rr = np.diff(Rpeaks)

    hrv_time = hrv_calc.calctimedomainhrv(rr, t_unit='ms')
    hrv_fre = hrv_calc.calcfreqdomainhrv(rr, t_unit='ms')
    hrv_nonlinear = hrv_calc.calcnonlinearhrv(rr, t_unit='ms', m=3, L=1, min_box=4, max_box=64, inc=1, cop=12, decim=2)

    hrv_dict = {'patientid': patientid}
    hrv_dict.update(hrv_time.iloc[0].to_dict())
    hrv_dict.update(hrv_fre.iloc[0].to_dict())
    hrv_dict.update(hrv_nonlinear.iloc[0].to_dict())

    return hrv_dict

hrv_list = []  # Initialize an empty list to store HRV results

for i in range(len(summary_cohort)):
    print(f"Iteration {i}")
    patientid = summary_cohort.iloc[i]['patientid']
    start = summary_cohort.iloc[i]['time_start']
    end = summary_cohort.iloc[i]['time_end']
    hrv = extract_onehr_hrv(patientid, start, end, increment=599)
    if hrv is None:
        continue  # Skip to the next iteration
    hrv_list.append(hrv).
    clear_output(wait=True)
    print(hrv_list)

hrv_df = pd.DataFrame(hrv_list)



  
